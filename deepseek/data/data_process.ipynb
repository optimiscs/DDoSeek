{
 "cells": [
  {
   "cell_type": "code",
   "execution_count": 1,
   "metadata": {},
   "outputs": [
    {
     "name": "stdout",
     "output_type": "stream",
     "text": [
      "NetBIOS-training.json: 1631\n",
      "MSSQL-testing.json: 8083\n",
      "UDP-training.json: 17770\n",
      "Syn-training.json: 70336\n",
      "MSSQL-training.json: 10974\n",
      "Syn-testing.json: 907\n",
      "UDP-testing.json: 12462\n",
      "NetBIOS-testing.json: 2225\n"
     ]
    }
   ],
   "source": [
    "import os\n",
    "import json\n",
    "\n",
    "# 获取当前目录下的所有文件\n",
    "files = os.listdir('.')\n",
    "\n",
    "# 遍历文件，筛选出 JSON 文件并读取其长度\n",
    "for file in files:\n",
    "    if file.endswith('.json'):\n",
    "        with open(file, 'r', encoding='utf-8') as f:\n",
    "            try:\n",
    "                data = json.load(f)\n",
    "                print(f\"{file}: {len(data)}\")\n",
    "            except json.JSONDecodeError:\n",
    "                print(f\"{file}: 无法解析为JSON\")"
   ]
  },
  {
   "cell_type": "code",
   "execution_count": 2,
   "metadata": {},
   "outputs": [],
   "source": [
    "import random\n",
    "\n",
    "# 处理包含 '-training' 的文件\n",
    "for file in files:\n",
    "    if '-training' in file and file.endswith('.json'):\n",
    "        with open(file, 'r', encoding='utf-8') as f:\n",
    "            try:\n",
    "                data = json.load(f)\n",
    "                random.shuffle(data)\n",
    "                selected_data = data[:1600]\n",
    "                new_file_name = file.replace('.json', '-2k.json')\n",
    "                with open(new_file_name, 'w', encoding='utf-8') as new_f:\n",
    "                    json.dump(selected_data, new_f, ensure_ascii=False, indent=4)\n",
    "            except json.JSONDecodeError:\n",
    "                print(f\"{file}: 无法解析为JSON\")\n",
    "\n",
    "# 处理包含 '-testing' 的文件\n",
    "for file in files:\n",
    "    if '-testing' in file and file.endswith('.json'):\n",
    "        with open(file, 'r', encoding='utf-8') as f:\n",
    "            try:\n",
    "                data = json.load(f)\n",
    "                random.shuffle(data)\n",
    "                selected_data = data[:200]\n",
    "                new_file_name = file.replace('.json', '-200.json')\n",
    "                with open(new_file_name, 'w', encoding='utf-8') as new_f:\n",
    "                    json.dump(selected_data, new_f, ensure_ascii=False, indent=4)\n",
    "            except json.JSONDecodeError:\n",
    "                print(f\"{file}: 无法解析为JSON\")\n"
   ]
  },
  {
   "cell_type": "code",
   "execution_count": null,
   "metadata": {},
   "outputs": [],
   "source": [
    "# 遍历当前目录下的所有 JSON 文件并修改其 instruction 字段\n",
    "for file in files:\n",
    "    if file.endswith('.json'):\n",
    "        with open(file, 'r', encoding='utf-8') as f:\n",
    "            try:\n",
    "                data = json.load(f)\n",
    "                # 如果是列表类型的 JSON 文件，遍历每个元素\n",
    "                if isinstance(data, list):\n",
    "                    for item in data:\n",
    "                        if isinstance(item, dict):\n",
    "                            item['instruction'] = \"Here is a JSON file of a network packet that may be used for DDOS attacks. Please analyze it and provide only one type if it is a DDoS packet: MS SQL, NetBIOS, Syn, UDP; If it weren't for DDoS packets: benign\"\n",
    "                # 如果是字典类型的 JSON 文件，直接修改 instruction 字段\n",
    "                elif isinstance(data, dict):\n",
    "                    data['instruction'] = \"Here is a JSON file of a network packet that may be used for DDOS attacks. Please analyze it and provide only one type if it is a DDoS packet: MS SQL, NetBIOS, Syn, UDP; If it weren't for DDoS packets: benign\"\n",
    "                # 将修改后的数据写回文件\n",
    "                with open(file, 'w', encoding='utf-8') as f_out:\n",
    "                    json.dump(data, f_out, ensure_ascii=False, indent=4)\n",
    "            except json.JSONDecodeError:\n",
    "                print(f\"{file}: 无法解析为JSON\")"
   ]
  },
  {
   "cell_type": "code",
   "execution_count": null,
   "metadata": {},
   "outputs": [],
   "source": []
  }
 ],
 "metadata": {
  "kernelspec": {
   "display_name": "pytorch",
   "language": "python",
   "name": "python3"
  },
  "language_info": {
   "codemirror_mode": {
    "name": "ipython",
    "version": 3
   },
   "file_extension": ".py",
   "mimetype": "text/x-python",
   "name": "python",
   "nbconvert_exporter": "python",
   "pygments_lexer": "ipython3",
   "version": "3.11.8"
  }
 },
 "nbformat": 4,
 "nbformat_minor": 2
}
